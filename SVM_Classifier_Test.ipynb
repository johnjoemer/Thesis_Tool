{
 "cells": [
  {
   "cell_type": "code",
   "execution_count": null,
   "metadata": {},
   "outputs": [],
   "source": [
    "import numpy as np # linear algebra\n",
    "import pandas as pd # data processing, CSV file I/O (e.g. pd.read_csv)\n",
    "import matplotlib.pyplot as plt # for data visualization\n",
    "import seaborn as sns # for statistical data visualization\n",
    "import ast\n",
    "\n"
   ]
  },
  {
   "cell_type": "code",
   "execution_count": null,
   "metadata": {},
   "outputs": [],
   "source": [
    "data = '/Users/jj/Documents/COLLEGE_DOCS/CASME2/Computed_LBP_Features_Not_Including_Others_Emotion'\n",
    "df = pd.read_csv(data)\n",
    "\n",
    "print(type(df['Computed LBP'][0]))\n",
    "\n",
    "df['Computed LBP'] = df['Computed LBP'].apply(lambda x: list(map(float, x.split(','))) if pd.notnull(x) else x)\n",
    "df['Computed LBP'] = df['Computed LBP'].apply(lambda x: np.array(x).flatten() if isinstance(x, list) else x)\n",
    "print(type(df['Computed LBP'][0]))\n"
   ]
  },
  {
   "cell_type": "code",
   "execution_count": null,
   "metadata": {},
   "outputs": [],
   "source": [
    "df.shape"
   ]
  },
  {
   "cell_type": "code",
   "execution_count": null,
   "metadata": {},
   "outputs": [],
   "source": [
    "df.head()"
   ]
  },
  {
   "cell_type": "code",
   "execution_count": null,
   "metadata": {},
   "outputs": [],
   "source": [
    "col_names = df.columns\n",
    "\n",
    "col_names"
   ]
  },
  {
   "cell_type": "code",
   "execution_count": null,
   "metadata": {},
   "outputs": [],
   "source": [
    "\n",
    "# X = df.drop(['Subject', 'Filename', 'OnsetFrame', 'ApexFrame', 'OffsetFrame',\n",
    "#        'Action Units', 'Estimated Emotion'], axis=1)\n",
    "# y = df['Estimated Emotion']\n",
    "\n",
    "# X = np.array(X)\n",
    "\n",
    "X = df['Computed LBP'].to_list()\n",
    "X = np.array(X)\n",
    "\n",
    "y = df['Estimated Emotion']\n",
    "\n",
    "\n",
    "print(df.at[0, 'Computed LBP'])\n",
    "# print(df['Computed LBP'])\n",
    "print(df.at[0, 'Estimated Emotion'])\n",
    "print(X.shape)\n",
    "\n"
   ]
  },
  {
   "cell_type": "code",
   "execution_count": null,
   "metadata": {},
   "outputs": [],
   "source": [
    "from sklearn.model_selection import train_test_split\n",
    "\n",
    "X_train, X_test, y_train, y_test = train_test_split(X, y, test_size=0.3, random_state=42)\n",
    "# df['Computed LBP'] = df['Computed LBP'].apply(convert_to_array)\n",
    "# X_test['ApexFrame'] = X_test['ApexFrame'].str.strip(\"/\")\n",
    "# X_train['ApexFrame'] = X_train['ApexFrame'].str.strip(\"/\")\n",
    "# X_train['ApexFrame'] = np.where(X_train['ApexFrame'] == '', np.nan, X_train['ApexFrame'])\n",
    "\n",
    "# Convert 'ApexFrame' to float, replacing NaN values with 0 (or any other desired value)\n",
    "# df['Computed LBP'] = df['Computed LBP'].apply(lambda x: ' '.join(x))\n",
    "# df['Computed LBP'] = df['Computed LBP'].apply(lambda x: ' '.join(x))\n",
    "# X_train['Computed LBP'] = pd.to_numeric(X_train['Computed LBP'])\n",
    "# X_test['Computed LBP'] = pd.to_numeric(X_test['Computed LBP'])\n",
    "# X_train.flatten()\n"
   ]
  },
  {
   "cell_type": "code",
   "execution_count": null,
   "metadata": {},
   "outputs": [],
   "source": [
    "from pandas import unique\n",
    "\n",
    "\n",
    "print(X_test['Computed LBP'].unique())\n",
    "print(X_train['Computed LBP'].unique())\n"
   ]
  },
  {
   "cell_type": "code",
   "execution_count": null,
   "metadata": {},
   "outputs": [],
   "source": [
    "X_train.shape, X_test.shape\n",
    "y_train.shape, y_test.shape"
   ]
  },
  {
   "cell_type": "code",
   "execution_count": null,
   "metadata": {},
   "outputs": [],
   "source": [
    "from sklearn.svm import SVC \n",
    "from sklearn.metrics import accuracy_score\n",
    "import joblib\n",
    "\n",
    "\n",
    "# Classifier initialization\n",
    "svm_classifier = SVC(kernel='linear', C=1.0)\n",
    "svm_classifier = SVC(probability=True)\n",
    "\n",
    "# Training the Classifier\n",
    "svm_classifier.fit(X_train, y_train)\n",
    "joblib.dump(svm_classifier, '/Users/jj/Documents/COLLEGE_DOCS/CASME2/SVM_Classifier_Model/SVM_Model_withProba')\n"
   ]
  },
  {
   "cell_type": "code",
   "execution_count": null,
   "metadata": {},
   "outputs": [],
   "source": [
    "trained_SVM_Model = joblib.load('/Users/jj/Documents/COLLEGE_DOCS/CASME2/SVM_Classifier_Model/SVM_Model_withProba')\n",
    "\n",
    "# Test prediction using Test sample \n",
    "predictions = trained_SVM_Model.predict(X_test)\n",
    "# predictions = svm_classifier.predict(X_test)\n",
    "\n",
    "print(predictions)\n",
    "\n",
    "accuracy = accuracy_score(y_test, predictions)\n",
    "print (f\"Accuracy: {accuracy * 100: .2f}%\")"
   ]
  },
  {
   "cell_type": "code",
   "execution_count": null,
   "metadata": {},
   "outputs": [],
   "source": [
    "import cv2\n",
    "from skimage import feature\n",
    "import numpy as np\n",
    "from sklearn.svm import SVC\n",
    "import joblib\n",
    "\n",
    "def compute_lbp(image):\n",
    "    gray = cv2.cvtColor(image, cv2.COLOR_BGR2GRAY)\n",
    "    lbp = feature.local_binary_pattern(gray, P=8, R=1, method=\"uniform\")\n",
    "\n",
    "    lbp_features_flat = lbp.flatten()[:90]\n",
    "\n",
    "    return lbp_features_flat\n",
    "\n",
    "def classifyME(imagePath, svmModelPath):\n",
    "    image = cv2.imread(imagePath)\n",
    "\n",
    "    lbpfeatures = compute_lbp(image)\n",
    "\n",
    "    if len(lbpfeatures) != 90:\n",
    "        print(f\"Error: Expected 90 features, but got {len(lbpfeatures)} features.\")\n",
    "        return None\n",
    "\n",
    "    lbpfeatures = np.array([lbpfeatures])\n",
    "\n",
    "    trained_SVM_Model = joblib.load(svmModelPath)\n",
    "\n",
    "    prediction = trained_SVM_Model.predict(lbpfeatures)\n",
    "\n",
    "    return prediction\n",
    "\n",
    "\n",
    "imagePathtoClassify = '/Users/jj/Documents/COLLEGE_DOCS/CASME2/Extracted_ApexFrames/EP06_07_frame225.jpg'\n",
    "svm_model_path = '/Users/jj/Documents/COLLEGE_DOCS/CASME2/SVM_Classifier_Model/SVM_Model_ApexFrameV6_37percent.joblib'\n",
    "\n",
    "predictedME = classifyME(imagePathtoClassify, svm_model_path)\n",
    "\n",
    "print(f\"Micro-Expression Present is: {predictedME}\")\n"
   ]
  }
 ],
 "metadata": {
  "kernelspec": {
   "display_name": "Python 3",
   "language": "python",
   "name": "python3"
  },
  "language_info": {
   "codemirror_mode": {
    "name": "ipython",
    "version": 3
   },
   "file_extension": ".py",
   "mimetype": "text/x-python",
   "name": "python",
   "nbconvert_exporter": "python",
   "pygments_lexer": "ipython3",
   "version": "3.11.3"
  }
 },
 "nbformat": 4,
 "nbformat_minor": 2
}
