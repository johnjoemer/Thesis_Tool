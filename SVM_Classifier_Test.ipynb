{
 "cells": [
  {
   "cell_type": "code",
   "execution_count": 1,
   "metadata": {},
   "outputs": [],
   "source": [
    "import numpy as np # linear algebra\n",
    "import pandas as pd # data processing, CSV file I/O (e.g. pd.read_csv)\n",
    "import matplotlib.pyplot as plt # for data visualization\n",
    "import seaborn as sns # for statistical data visualization\n",
    "import ast\n",
    "\n"
   ]
  },
  {
   "cell_type": "code",
   "execution_count": 2,
   "metadata": {},
   "outputs": [
    {
     "name": "stdout",
     "output_type": "stream",
     "text": [
      "<class 'str'>\n",
      "<class 'numpy.ndarray'>\n"
     ]
    }
   ],
   "source": [
    "data = '/Users/jj/Documents/COLLEGE_DOCS/CASME2/Computed_LBP_Features_Not_Including_Others_Emotion'\n",
    "df = pd.read_csv(data)\n",
    "\n",
    "print(type(df['Computed LBP'][0]))\n",
    "\n",
    "df['Computed LBP'] = df['Computed LBP'].apply(lambda x: list(map(float, x.split(','))) if pd.notnull(x) else x)\n",
    "df['Computed LBP'] = df['Computed LBP'].apply(lambda x: np.array(x).flatten() if isinstance(x, list) else x)\n",
    "print(type(df['Computed LBP'][0]))\n"
   ]
  },
  {
   "cell_type": "code",
   "execution_count": 3,
   "metadata": {},
   "outputs": [
    {
     "data": {
      "text/plain": [
       "(133, 8)"
      ]
     },
     "execution_count": 3,
     "metadata": {},
     "output_type": "execute_result"
    }
   ],
   "source": [
    "df.shape"
   ]
  },
  {
   "cell_type": "code",
   "execution_count": 4,
   "metadata": {},
   "outputs": [
    {
     "data": {
      "text/html": [
       "<div>\n",
       "<style scoped>\n",
       "    .dataframe tbody tr th:only-of-type {\n",
       "        vertical-align: middle;\n",
       "    }\n",
       "\n",
       "    .dataframe tbody tr th {\n",
       "        vertical-align: top;\n",
       "    }\n",
       "\n",
       "    .dataframe thead th {\n",
       "        text-align: right;\n",
       "    }\n",
       "</style>\n",
       "<table border=\"1\" class=\"dataframe\">\n",
       "  <thead>\n",
       "    <tr style=\"text-align: right;\">\n",
       "      <th></th>\n",
       "      <th>Subject</th>\n",
       "      <th>Filename</th>\n",
       "      <th>OnsetFrame</th>\n",
       "      <th>ApexFrame</th>\n",
       "      <th>OffsetFrame</th>\n",
       "      <th>Action Units</th>\n",
       "      <th>Estimated Emotion</th>\n",
       "      <th>Computed LBP</th>\n",
       "    </tr>\n",
       "  </thead>\n",
       "  <tbody>\n",
       "    <tr>\n",
       "      <th>0</th>\n",
       "      <td>2</td>\n",
       "      <td>EP13_04</td>\n",
       "      <td>21</td>\n",
       "      <td>51</td>\n",
       "      <td>76</td>\n",
       "      <td>1</td>\n",
       "      <td>surprise</td>\n",
       "      <td>[3.0, 5.0, 4.0, 3.0, 3.0, 3.0, 4.0, 5.0, 4.0, ...</td>\n",
       "    </tr>\n",
       "    <tr>\n",
       "      <th>1</th>\n",
       "      <td>2</td>\n",
       "      <td>EP11_01</td>\n",
       "      <td>16</td>\n",
       "      <td>69</td>\n",
       "      <td>106</td>\n",
       "      <td>1+L2</td>\n",
       "      <td>surprise</td>\n",
       "      <td>[3.0, 4.0, 3.0, 2.0, 1.0, 1.0, 9.0, 1.0, 5.0, ...</td>\n",
       "    </tr>\n",
       "    <tr>\n",
       "      <th>2</th>\n",
       "      <td>2</td>\n",
       "      <td>EP06_01f</td>\n",
       "      <td>56</td>\n",
       "      <td>121</td>\n",
       "      <td>155</td>\n",
       "      <td>14</td>\n",
       "      <td>repression</td>\n",
       "      <td>[3.0, 3.0, 3.0, 2.0, 2.0, 3.0, 5.0, 5.0, 3.0, ...</td>\n",
       "    </tr>\n",
       "    <tr>\n",
       "      <th>3</th>\n",
       "      <td>2</td>\n",
       "      <td>EP03_02f</td>\n",
       "      <td>16</td>\n",
       "      <td>81</td>\n",
       "      <td>136</td>\n",
       "      <td>15</td>\n",
       "      <td>repression</td>\n",
       "      <td>[2.0, 2.0, 2.0, 2.0, 2.0, 1.0, 9.0, 5.0, 3.0, ...</td>\n",
       "    </tr>\n",
       "    <tr>\n",
       "      <th>4</th>\n",
       "      <td>2</td>\n",
       "      <td>EP02_04f</td>\n",
       "      <td>31</td>\n",
       "      <td>79</td>\n",
       "      <td>141</td>\n",
       "      <td>12+15</td>\n",
       "      <td>repression</td>\n",
       "      <td>[3.0, 3.0, 3.0, 3.0, 3.0, 3.0, 3.0, 3.0, 3.0, ...</td>\n",
       "    </tr>\n",
       "  </tbody>\n",
       "</table>\n",
       "</div>"
      ],
      "text/plain": [
       "   Subject  Filename  OnsetFrame  ApexFrame  OffsetFrame Action Units   \n",
       "0        2   EP13_04          21         51           76            1  \\\n",
       "1        2   EP11_01          16         69          106         1+L2   \n",
       "2        2  EP06_01f          56        121          155           14   \n",
       "3        2  EP03_02f          16         81          136           15   \n",
       "4        2  EP02_04f          31         79          141        12+15   \n",
       "\n",
       "  Estimated Emotion                                       Computed LBP  \n",
       "0          surprise  [3.0, 5.0, 4.0, 3.0, 3.0, 3.0, 4.0, 5.0, 4.0, ...  \n",
       "1          surprise  [3.0, 4.0, 3.0, 2.0, 1.0, 1.0, 9.0, 1.0, 5.0, ...  \n",
       "2        repression  [3.0, 3.0, 3.0, 2.0, 2.0, 3.0, 5.0, 5.0, 3.0, ...  \n",
       "3        repression  [2.0, 2.0, 2.0, 2.0, 2.0, 1.0, 9.0, 5.0, 3.0, ...  \n",
       "4        repression  [3.0, 3.0, 3.0, 3.0, 3.0, 3.0, 3.0, 3.0, 3.0, ...  "
      ]
     },
     "execution_count": 4,
     "metadata": {},
     "output_type": "execute_result"
    }
   ],
   "source": [
    "df.head()"
   ]
  },
  {
   "cell_type": "code",
   "execution_count": 5,
   "metadata": {},
   "outputs": [
    {
     "data": {
      "text/plain": [
       "Index(['Subject', 'Filename', 'OnsetFrame', 'ApexFrame', 'OffsetFrame',\n",
       "       'Action Units', 'Estimated Emotion', 'Computed LBP'],\n",
       "      dtype='object')"
      ]
     },
     "execution_count": 5,
     "metadata": {},
     "output_type": "execute_result"
    }
   ],
   "source": [
    "col_names = df.columns\n",
    "\n",
    "col_names"
   ]
  },
  {
   "cell_type": "code",
   "execution_count": 6,
   "metadata": {},
   "outputs": [
    {
     "name": "stdout",
     "output_type": "stream",
     "text": [
      "[3. 5. 4. 3. 3. 3. 4. 5. 4. 5. 5. 5. 4. 4. 4. 4. 3. 4. 3. 3. 3. 3. 1. 9.\n",
      " 0. 3. 4. 5. 4. 3. 2. 0. 9. 9. 9. 9. 2. 2. 2. 2. 3. 5. 5. 5. 5. 5. 5. 5.\n",
      " 3. 5. 3. 5. 5. 5. 1. 1. 5. 3. 3. 3. 0. 3. 3. 9. 9. 9. 9. 9. 9. 9. 9. 9.\n",
      " 9. 2. 2. 0. 1. 3. 3. 5. 3. 2. 3. 2. 9. 1. 0. 2. 5. 4.]\n",
      "surprise\n",
      "(133, 90)\n"
     ]
    }
   ],
   "source": [
    "\n",
    "# X = df.drop(['Subject', 'Filename', 'OnsetFrame', 'ApexFrame', 'OffsetFrame',\n",
    "#        'Action Units', 'Estimated Emotion'], axis=1)\n",
    "# y = df['Estimated Emotion']\n",
    "\n",
    "# X = np.array(X)\n",
    "\n",
    "X = df['Computed LBP'].to_list()\n",
    "X = np.array(X)\n",
    "\n",
    "y = df['Estimated Emotion']\n",
    "\n",
    "\n",
    "print(df.at[0, 'Computed LBP'])\n",
    "# print(df['Computed LBP'])\n",
    "print(df.at[0, 'Estimated Emotion'])\n",
    "print(X.shape)\n",
    "\n"
   ]
  },
  {
   "cell_type": "code",
   "execution_count": 7,
   "metadata": {},
   "outputs": [],
   "source": [
    "from sklearn.model_selection import train_test_split\n",
    "\n",
    "X_train, X_test, y_train, y_test = train_test_split(X, y, test_size=0.3, random_state=42)\n",
    "# df['Computed LBP'] = df['Computed LBP'].apply(convert_to_array)\n",
    "# X_test['ApexFrame'] = X_test['ApexFrame'].str.strip(\"/\")\n",
    "# X_train['ApexFrame'] = X_train['ApexFrame'].str.strip(\"/\")\n",
    "# X_train['ApexFrame'] = np.where(X_train['ApexFrame'] == '', np.nan, X_train['ApexFrame'])\n",
    "\n",
    "# Convert 'ApexFrame' to float, replacing NaN values with 0 (or any other desired value)\n",
    "# df['Computed LBP'] = df['Computed LBP'].apply(lambda x: ' '.join(x))\n",
    "# df['Computed LBP'] = df['Computed LBP'].apply(lambda x: ' '.join(x))\n",
    "# X_train['Computed LBP'] = pd.to_numeric(X_train['Computed LBP'])\n",
    "# X_test['Computed LBP'] = pd.to_numeric(X_test['Computed LBP'])\n",
    "# X_train.flatten()\n"
   ]
  },
  {
   "cell_type": "code",
   "execution_count": null,
   "metadata": {},
   "outputs": [],
   "source": [
    "from pandas import unique\n",
    "\n",
    "\n",
    "print(X_test['Computed LBP'].unique())\n",
    "print(X_train['Computed LBP'].unique())\n"
   ]
  },
  {
   "cell_type": "code",
   "execution_count": 8,
   "metadata": {},
   "outputs": [
    {
     "data": {
      "text/plain": [
       "((93,), (40,))"
      ]
     },
     "execution_count": 8,
     "metadata": {},
     "output_type": "execute_result"
    }
   ],
   "source": [
    "X_train.shape, X_test.shape\n",
    "y_train.shape, y_test.shape"
   ]
  },
  {
   "cell_type": "code",
   "execution_count": 9,
   "metadata": {},
   "outputs": [
    {
     "data": {
      "text/plain": [
       "['/Users/jj/Documents/COLLEGE_DOCS/CASME2/SVM_Classifier_Model/SVM_Model_withProba']"
      ]
     },
     "execution_count": 9,
     "metadata": {},
     "output_type": "execute_result"
    }
   ],
   "source": [
    "from sklearn.svm import SVC \n",
    "from sklearn.metrics import accuracy_score\n",
    "import joblib\n",
    "\n",
    "\n",
    "# Classifier initialization\n",
    "svm_classifier = SVC(kernel='linear', C=1.0)\n",
    "svm_classifier = SVC(probability=True)\n",
    "\n",
    "# Training the Classifier\n",
    "svm_classifier.fit(X_train, y_train)\n",
    "joblib.dump(svm_classifier, '/Users/jj/Documents/COLLEGE_DOCS/CASME2/SVM_Classifier_Model/SVM_Model_withProba')\n"
   ]
  },
  {
   "cell_type": "code",
   "execution_count": 10,
   "metadata": {},
   "outputs": [
    {
     "name": "stdout",
     "output_type": "stream",
     "text": [
      "['disgust' 'disgust' 'disgust' 'disgust' 'disgust' 'disgust' 'disgust'\n",
      " 'disgust' 'disgust' 'disgust' 'disgust' 'disgust' 'disgust' 'disgust'\n",
      " 'disgust' 'surprise' 'disgust' 'disgust' 'disgust' 'disgust' 'disgust'\n",
      " 'disgust' 'disgust' 'disgust' 'disgust' 'disgust' 'disgust' 'disgust'\n",
      " 'disgust' 'disgust' 'disgust' 'disgust' 'disgust' 'disgust' 'disgust'\n",
      " 'disgust' 'disgust' 'disgust' 'disgust' 'disgust']\n",
      "Accuracy:  35.00%\n"
     ]
    }
   ],
   "source": [
    "trained_SVM_Model = joblib.load('/Users/jj/Documents/COLLEGE_DOCS/CASME2/SVM_Classifier_Model/SVM_Model_withProba')\n",
    "\n",
    "# Test prediction using Test sample \n",
    "predictions = trained_SVM_Model.predict(X_test)\n",
    "# predictions = svm_classifier.predict(X_test)\n",
    "\n",
    "print(predictions)\n",
    "\n",
    "accuracy = accuracy_score(y_test, predictions)\n",
    "print (f\"Accuracy: {accuracy * 100: .2f}%\")"
   ]
  },
  {
   "cell_type": "code",
   "execution_count": 519,
   "metadata": {},
   "outputs": [
    {
     "name": "stdout",
     "output_type": "stream",
     "text": [
      "Micro-Expression Present is: ['happiness']\n"
     ]
    }
   ],
   "source": [
    "import cv2\n",
    "from skimage import feature\n",
    "import numpy as np\n",
    "from sklearn.svm import SVC\n",
    "import joblib\n",
    "\n",
    "def compute_lbp(image):\n",
    "    gray = cv2.cvtColor(image, cv2.COLOR_BGR2GRAY)\n",
    "    lbp = feature.local_binary_pattern(gray, P=8, R=1, method=\"uniform\")\n",
    "\n",
    "    lbp_features_flat = lbp.flatten()[:90]\n",
    "\n",
    "    return lbp_features_flat\n",
    "\n",
    "def classifyME(imagePath, svmModelPath):\n",
    "    image = cv2.imread(imagePath)\n",
    "\n",
    "    lbpfeatures = compute_lbp(image)\n",
    "\n",
    "    if len(lbpfeatures) != 90:\n",
    "        print(f\"Error: Expected 90 features, but got {len(lbpfeatures)} features.\")\n",
    "        return None\n",
    "\n",
    "    lbpfeatures = np.array([lbpfeatures])\n",
    "\n",
    "    trained_SVM_Model = joblib.load(svmModelPath)\n",
    "\n",
    "    prediction = trained_SVM_Model.predict(lbpfeatures)\n",
    "\n",
    "    return prediction\n",
    "\n",
    "\n",
    "imagePathtoClassify = '/Users/jj/Documents/COLLEGE_DOCS/CASME2/Extracted_ApexFrames/EP06_07_frame225.jpg'\n",
    "svm_model_path = '/Users/jj/Documents/COLLEGE_DOCS/CASME2/SVM_Classifier_Model/SVM_Model_ApexFrameV6_37percent.joblib'\n",
    "\n",
    "predictedME = classifyME(imagePathtoClassify, svm_model_path)\n",
    "\n",
    "print(f\"Micro-Expression Present is: {predictedME}\")\n"
   ]
  }
 ],
 "metadata": {
  "kernelspec": {
   "display_name": "Python 3",
   "language": "python",
   "name": "python3"
  },
  "language_info": {
   "codemirror_mode": {
    "name": "ipython",
    "version": 3
   },
   "file_extension": ".py",
   "mimetype": "text/x-python",
   "name": "python",
   "nbconvert_exporter": "python",
   "pygments_lexer": "ipython3",
   "version": "3.11.3"
  }
 },
 "nbformat": 4,
 "nbformat_minor": 2
}
