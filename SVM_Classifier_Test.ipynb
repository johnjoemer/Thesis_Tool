{
 "cells": [
  {
   "cell_type": "code",
   "execution_count": 51,
   "metadata": {},
   "outputs": [],
   "source": [
    "import numpy as np # linear algebra\n",
    "import pandas as pd # data processing, CSV file I/O (e.g. pd.read_csv)\n",
    "import matplotlib.pyplot as plt # for data visualization\n",
    "import seaborn as sns # for statistical data visualization\n",
    "\n"
   ]
  },
  {
   "cell_type": "code",
   "execution_count": 137,
   "metadata": {},
   "outputs": [],
   "source": [
    "data = '/Users/jj/Documents/COLLEGE_DOCS/CASME2/Coding with Computed LBP Features.csv'\n",
    "df = pd.read_csv(data)"
   ]
  },
  {
   "cell_type": "code",
   "execution_count": 138,
   "metadata": {},
   "outputs": [
    {
     "data": {
      "text/plain": [
       "(9, 8)"
      ]
     },
     "execution_count": 138,
     "metadata": {},
     "output_type": "execute_result"
    }
   ],
   "source": [
    "df.shape"
   ]
  },
  {
   "cell_type": "code",
   "execution_count": 139,
   "metadata": {},
   "outputs": [
    {
     "data": {
      "text/html": [
       "<div>\n",
       "<style scoped>\n",
       "    .dataframe tbody tr th:only-of-type {\n",
       "        vertical-align: middle;\n",
       "    }\n",
       "\n",
       "    .dataframe tbody tr th {\n",
       "        vertical-align: top;\n",
       "    }\n",
       "\n",
       "    .dataframe thead th {\n",
       "        text-align: right;\n",
       "    }\n",
       "</style>\n",
       "<table border=\"1\" class=\"dataframe\">\n",
       "  <thead>\n",
       "    <tr style=\"text-align: right;\">\n",
       "      <th></th>\n",
       "      <th>Subject</th>\n",
       "      <th>Filename</th>\n",
       "      <th>OnsetFrame</th>\n",
       "      <th>ApexFrame</th>\n",
       "      <th>OffsetFrame</th>\n",
       "      <th>Action Units</th>\n",
       "      <th>Estimated Emotion</th>\n",
       "      <th>Computed LBP</th>\n",
       "    </tr>\n",
       "  </thead>\n",
       "  <tbody>\n",
       "    <tr>\n",
       "      <th>0</th>\n",
       "      <td>1</td>\n",
       "      <td>EP02_01f</td>\n",
       "      <td>46</td>\n",
       "      <td>59</td>\n",
       "      <td>86</td>\n",
       "      <td>12</td>\n",
       "      <td>happiness</td>\n",
       "      <td>1.0 3.0 4.0 5.0 5.0 3.0 3.0 0.0 5.0 4.0 1.0 1....</td>\n",
       "    </tr>\n",
       "    <tr>\n",
       "      <th>1</th>\n",
       "      <td>1</td>\n",
       "      <td>EP19_05f</td>\n",
       "      <td>396</td>\n",
       "      <td>416</td>\n",
       "      <td>446</td>\n",
       "      <td>4+L10</td>\n",
       "      <td>disgust</td>\n",
       "      <td>1.0 3.0 4.0 5.0 5.0 3.0 3.0 0.0 5.0 4.0 1.0 1....</td>\n",
       "    </tr>\n",
       "    <tr>\n",
       "      <th>2</th>\n",
       "      <td>1</td>\n",
       "      <td>EP19_06f</td>\n",
       "      <td>36</td>\n",
       "      <td>71</td>\n",
       "      <td>161</td>\n",
       "      <td>4+5+L10</td>\n",
       "      <td>disgust</td>\n",
       "      <td>3.0 4.0 4.0 4.0 4.0 5.0 4.0 3.0 3.0 4.0 3.0 4....</td>\n",
       "    </tr>\n",
       "    <tr>\n",
       "      <th>3</th>\n",
       "      <td>2</td>\n",
       "      <td>EP01_11f</td>\n",
       "      <td>46</td>\n",
       "      <td>91</td>\n",
       "      <td>96</td>\n",
       "      <td>15</td>\n",
       "      <td>repression</td>\n",
       "      <td>3.0 3.0 5.0 4.0 3.0 3.0 3.0 3.0 3.0 5.0 3.0 3....</td>\n",
       "    </tr>\n",
       "    <tr>\n",
       "      <th>4</th>\n",
       "      <td>2</td>\n",
       "      <td>EP02_04f</td>\n",
       "      <td>31</td>\n",
       "      <td>79</td>\n",
       "      <td>141</td>\n",
       "      <td>12+15</td>\n",
       "      <td>repression</td>\n",
       "      <td>3.0 3.0 3.0 3.0 3.0 3.0 3.0 3.0 3.0 3.0 3.0 3....</td>\n",
       "    </tr>\n",
       "  </tbody>\n",
       "</table>\n",
       "</div>"
      ],
      "text/plain": [
       "   Subject  Filename  OnsetFrame  ApexFrame  OffsetFrame Action Units   \n",
       "0        1  EP02_01f          46         59           86           12  \\\n",
       "1        1  EP19_05f         396        416          446        4+L10   \n",
       "2        1  EP19_06f          36         71          161      4+5+L10   \n",
       "3        2  EP01_11f          46         91           96           15   \n",
       "4        2  EP02_04f          31         79          141        12+15   \n",
       "\n",
       "  Estimated Emotion                                       Computed LBP  \n",
       "0         happiness  1.0 3.0 4.0 5.0 5.0 3.0 3.0 0.0 5.0 4.0 1.0 1....  \n",
       "1           disgust  1.0 3.0 4.0 5.0 5.0 3.0 3.0 0.0 5.0 4.0 1.0 1....  \n",
       "2           disgust  3.0 4.0 4.0 4.0 4.0 5.0 4.0 3.0 3.0 4.0 3.0 4....  \n",
       "3        repression  3.0 3.0 5.0 4.0 3.0 3.0 3.0 3.0 3.0 5.0 3.0 3....  \n",
       "4        repression  3.0 3.0 3.0 3.0 3.0 3.0 3.0 3.0 3.0 3.0 3.0 3....  "
      ]
     },
     "execution_count": 139,
     "metadata": {},
     "output_type": "execute_result"
    }
   ],
   "source": [
    "df.head()"
   ]
  },
  {
   "cell_type": "code",
   "execution_count": 55,
   "metadata": {},
   "outputs": [
    {
     "data": {
      "text/plain": [
       "Index(['Subject', 'Filename', 'OnsetFrame', 'ApexFrame', 'OffsetFrame',\n",
       "       'Action Units', 'Estimated Emotion'],\n",
       "      dtype='object')"
      ]
     },
     "execution_count": 55,
     "metadata": {},
     "output_type": "execute_result"
    }
   ],
   "source": [
    "col_names = df.columns\n",
    "\n",
    "col_names"
   ]
  },
  {
   "cell_type": "code",
   "execution_count": 140,
   "metadata": {},
   "outputs": [
    {
     "name": "stdout",
     "output_type": "stream",
     "text": [
      "   OnsetFrame  ApexFrame  OffsetFrame   \n",
      "0          46         59           86  \\\n",
      "1         396        416          446   \n",
      "2          36         71          161   \n",
      "3          46         91           96   \n",
      "4          31         79          141   \n",
      "5          16         81          136   \n",
      "6          51         69           91   \n",
      "7          21         81          106   \n",
      "8          61         76          121   \n",
      "\n",
      "                                        Computed LBP  \n",
      "0  1.0 3.0 4.0 5.0 5.0 3.0 3.0 0.0 5.0 4.0 1.0 1....  \n",
      "1  1.0 3.0 4.0 5.0 5.0 3.0 3.0 0.0 5.0 4.0 1.0 1....  \n",
      "2  3.0 4.0 4.0 4.0 4.0 5.0 4.0 3.0 3.0 4.0 3.0 4....  \n",
      "3  3.0 3.0 5.0 4.0 3.0 3.0 3.0 3.0 3.0 5.0 3.0 3....  \n",
      "4  3.0 3.0 3.0 3.0 3.0 3.0 3.0 3.0 3.0 3.0 3.0 3....  \n",
      "5  3.0 3.0 3.0 3.0 3.0 3.0 3.0 1.0 5.0 3.0 3.0 3....  \n",
      "6  1.0 9.0 3.0 3.0 3.0 3.0 3.0 5.0 3.0 3.0 3.0 3....  \n",
      "7  2.0 2.0 2.0 3.0 3.0 3.0 3.0 4.0 5.0 3.0 3.0 3....  \n",
      "8  3.0 3.0 3.0 3.0 3.0 3.0 3.0 3.0 5.0 4.0 3.0 3....  \n",
      "0     happiness\n",
      "1       disgust\n",
      "2       disgust\n",
      "3    repression\n",
      "4    repression\n",
      "5    repression\n",
      "6      surprise\n",
      "7       disgust\n",
      "8       disgust\n",
      "Name: Estimated Emotion, dtype: object\n"
     ]
    }
   ],
   "source": [
    "X = df.drop(['Subject', 'Filename', 'Action Units', 'Estimated Emotion'], axis=1)\n",
    "y = df['Estimated Emotion']\n",
    "\n",
    "print(X)\n",
    "print(y)"
   ]
  },
  {
   "cell_type": "code",
   "execution_count": 153,
   "metadata": {},
   "outputs": [],
   "source": [
    "import re\n",
    "from sklearn.model_selection import train_test_split\n",
    "\n",
    "X_train, X_test, y_train, y_test = train_test_split(X, y, test_size=0.3, random_state=42)\n",
    "# X_test['ApexFrame'] = X_test['ApexFrame'].str.strip(\"/\")\n",
    "# X_train['ApexFrame'] = X_train['ApexFrame'].str.strip(\"/\")\n",
    "# X_train['ApexFrame'] = np.where(X_train['ApexFrame'] == '', np.nan, X_train['ApexFrame'])\n",
    "\n",
    "# Convert 'ApexFrame' to float, replacing NaN values with 0 (or any other desired value)\n",
    "X_train['Computed LBP'] = pd.to_numeric(X_train['Computed LBP'], errors='coerce').fillna(0).astype(float)\n",
    "X_test['Computed LBP'] = pd.to_numeric(X_test['Computed LBP'], errors='coerce').fillna(0).astype(float)"
   ]
  },
  {
   "cell_type": "code",
   "execution_count": 154,
   "metadata": {},
   "outputs": [],
   "source": [
    "from pandas import unique\n",
    "\n",
    "\n",
    "# print(X_test['ApexFrame'].unique())\n",
    "# print(X_train['ApexFrame'].unique())\n"
   ]
  },
  {
   "cell_type": "code",
   "execution_count": 155,
   "metadata": {},
   "outputs": [
    {
     "data": {
      "text/plain": [
       "((7, 4), (2, 4))"
      ]
     },
     "execution_count": 155,
     "metadata": {},
     "output_type": "execute_result"
    }
   ],
   "source": [
    "X_train.shape, X_test.shape"
   ]
  },
  {
   "cell_type": "code",
   "execution_count": 160,
   "metadata": {},
   "outputs": [
    {
     "data": {
      "text/plain": [
       "['/Users/jj/Documents/COLLEGE_DOCS/CASME2/SVM_Classifier_Model/svm_model_2.joblib']"
      ]
     },
     "execution_count": 160,
     "metadata": {},
     "output_type": "execute_result"
    }
   ],
   "source": [
    "from sklearn.svm import SVC \n",
    "from sklearn.metrics import accuracy_score\n",
    "import joblib\n",
    "\n",
    "\n",
    "# Classifier initialization\n",
    "svm_classifier = SVC(kernel='linear', C=1.0)\n",
    "\n",
    "# Training the Classifier\n",
    "svm_classifier.fit(X_train, y_train)\n",
    "joblib.dump(svm_classifier, '/Users/jj/Documents/COLLEGE_DOCS/CASME2/SVM_Classifier_Model/svm_model_2.joblib')\n"
   ]
  },
  {
   "cell_type": "code",
   "execution_count": 161,
   "metadata": {},
   "outputs": [
    {
     "name": "stdout",
     "output_type": "stream",
     "text": [
      "['repression' 'disgust']\n",
      "Accuracy:  50.00%\n"
     ]
    }
   ],
   "source": [
    "trained_SVM_Model = joblib.load('/Users/jj/Documents/COLLEGE_DOCS/CASME2/SVM_Classifier_Model/svm_model_2.joblib')\n",
    "\n",
    "# Test prediction using Test sample \n",
    "predictions = trained_SVM_Model.predict(X_test)\n",
    "\n",
    "print(predictions)\n",
    "\n",
    "accuracy = accuracy_score(y_test, predictions)\n",
    "print (f\"Accuracy: {accuracy * 100: .2f}%\")"
   ]
  }
 ],
 "metadata": {
  "kernelspec": {
   "display_name": "Python 3",
   "language": "python",
   "name": "python3"
  },
  "language_info": {
   "codemirror_mode": {
    "name": "ipython",
    "version": 3
   },
   "file_extension": ".py",
   "mimetype": "text/x-python",
   "name": "python",
   "nbconvert_exporter": "python",
   "pygments_lexer": "ipython3",
   "version": "3.11.3"
  }
 },
 "nbformat": 4,
 "nbformat_minor": 2
}
